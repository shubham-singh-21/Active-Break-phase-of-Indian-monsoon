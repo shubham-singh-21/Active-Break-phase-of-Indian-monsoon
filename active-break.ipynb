{
 "cells": [
  {
   "cell_type": "code",
   "execution_count": 2,
   "metadata": {},
   "outputs": [],
   "source": [
    "import xarray as xr\n",
    "import  numpy as np\n",
    "import matplotlib.pyplot as plt"
   ]
  },
  {
   "cell_type": "code",
   "execution_count": 3,
   "metadata": {},
   "outputs": [],
   "source": [
    "d = xr.open_dataset('imd_precip_anomaly_1979_1017.nc')\n",
    "def is_amj(month):\n",
    "    return (month >= 6) & (month <= 9)\n",
    "\n",
    "d = d.sel(latitude=slice(15,25),longitude=slice(73,85),time=slice('1979-06-01','2017-09-30'))\n",
    "d_jjas = d.sel(time=is_amj(d['time.month'])).mean(dim=['latitude','longitude'])\n",
    "rf_jjas = d_jjas['rf'].squeeze()"
   ]
  },
  {
   "cell_type": "markdown",
   "metadata": {},
   "source": [
    "# climatology"
   ]
  },
  {
   "cell_type": "markdown",
   "metadata": {},
   "source": [
    "function for climatology: x is data array and days refers no. of days of year masked in data           \n",
    "here data is masked for jjas season so days is taken as 122"
   ]
  },
  {
   "cell_type": "code",
   "execution_count": 4,
   "metadata": {},
   "outputs": [],
   "source": [
    "def climatology(x,days):\n",
    "    y = np.empty([days])\n",
    "    for k in range(days):\n",
    "        y[k] = x[k::days].mean()\n",
    "    \n",
    "    return y\n",
    "\n",
    "rf_clim_jjas = climatology(rf_jjas,122)"
   ]
  },
  {
   "cell_type": "markdown",
   "metadata": {},
   "source": [
    "# Anomaly"
   ]
  },
  {
   "cell_type": "markdown",
   "metadata": {},
   "source": [
    "function for ANOMALY: x is data array, y is climatological array obtained from previous tab, and days refers no. of days of year masked in data"
   ]
  },
  {
   "cell_type": "code",
   "execution_count": 5,
   "metadata": {},
   "outputs": [],
   "source": [
    "def anomaly(x,y,days):\n",
    "    z = np.empty([len(x)])\n",
    "    for k in range(days):\n",
    "        z[k::days] = x[k::days] - y[k]\n",
    "        \n",
    "    return z\n",
    "rfa_jjas = anomaly(rf_jjas,rf_clim_jjas,122)\n",
    "rfa_jjas = rfa_jjas/np.std(rfa_jjas)"
   ]
  },
  {
   "cell_type": "markdown",
   "metadata": {},
   "source": [
    "# Active and Break Phase of Indian summer monsoon"
   ]
  },
  {
   "cell_type": "markdown",
   "metadata": {},
   "source": [
    "Active and Break phase of monsoon is define for core region[15°–25°N; 73°–85°E] rainfall over central india.       \n",
    "Active (Break) phase are define as persistence of std deviation of rainfall greater (lesser) than 1 (-1) for atleast 3-days.  "
   ]
  },
  {
   "cell_type": "code",
   "execution_count": 6,
   "metadata": {},
   "outputs": [],
   "source": [
    "active = np.zeros([4758])\n",
    "for k in range(39):\n",
    "    for i in range(k*122,k*122+122):\n",
    "        if (i==k*122 or i==k*122+1 or i==k*122+121 or i==k*122+122):#removing condition for first \n",
    "            active[i]=np.nan                                        #and last two days of season\n",
    "        elif (np.all(rfa_jjas[i-2:i+1]>1) or np.all(rfa_jjas[i-1:i+2]>1) or np.all(rfa_jjas[i:i+3]>1)):\n",
    "            active[i]=rfa_jjas[i]\n",
    "        else:\n",
    "            active[i]=np.nan\n",
    "            \n",
    "brake = np.zeros([4758])\n",
    "for k in range(39):\n",
    "    for i in range(k*122,k*122+122):\n",
    "        if (i==k*122 or i==k*122+1 or i==k*122+121 or i==k*122+122):\n",
    "            brake[i]=np.nan\n",
    "        elif (np.all(rfa_jjas[i-2:i+1]<-1) or np.all(rfa_jjas[i-1:i+2]<-1) or np.all(rfa_jjas[i:i+3]<-1)):\n",
    "            brake[i]=rfa_jjas[i]\n",
    "        else:\n",
    "            brake[i]=np.nan"
   ]
  },
  {
   "cell_type": "code",
   "execution_count": 7,
   "metadata": {},
   "outputs": [
    {
     "data": {
      "image/png": "[encoded data removed]",
      "text/plain": [
       "<Figure size 1728x576 with 1 Axes>"
      ]
     },
     "metadata": {
      "needs_background": "light"
     },
     "output_type": "display_data"
    }
   ],
   "source": [
    "plt.figure(figsize=[24,8])\n",
    "plt.bar(np.arange(1,2441),active[0:2440],label='active_phase',lw='1',color='blue')\n",
    "plt.bar(np.arange(1,2441),brake[0:2440],label='break_phase',lw='1',color = 'red')\n",
    "plt.axhline(y=1,color = 'green')\n",
    "plt.axhline(y=-1,color = 'green')\n",
    "\n",
    "plt.legend(loc = 'upper right',prop={'size': 20})\n",
    "# plt.xlabel('lags in days')\n",
    "plt.title('Active and Break phase of monsoon')\n",
    "plt.xticks(np.arange(1,2441,122),np.arange(1979,1999,1))\n",
    "plt.show()\n",
    "# plt.savefig('model_com_august.png',dpi=400)"
   ]
  }
 ],
 "metadata": {
  "kernelspec": {
   "display_name": "Python 3",
   "language": "python",
   "name": "python3"
  },
  "language_info": {
   "codemirror_mode": {
    "name": "ipython",
    "version": 3
   },
   "file_extension": ".py",
   "mimetype": "text/x-python",
   "name": "python",
   "nbconvert_exporter": "python",
   "pygments_lexer": "ipython3",
   "version": "3.7.3"
  }
 },
 "nbformat": 4,
 "nbformat_minor": 2
}
